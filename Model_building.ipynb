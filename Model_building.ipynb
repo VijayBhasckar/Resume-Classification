{
 "cells": [
  {
   "cell_type": "code",
   "execution_count": 9,
   "metadata": {},
   "outputs": [],
   "source": [
    "import numpy as np\n",
    "import pandas as pd\n",
    "import seaborn as sns\n",
    "import re\n",
    "import string\n",
    "import nltk"
   ]
  },
  {
   "cell_type": "code",
   "execution_count": 10,
   "metadata": {},
   "outputs": [],
   "source": [
    "df = pd.read_csv(\"Resume.csv\")"
   ]
  },
  {
   "cell_type": "code",
   "execution_count": 11,
   "metadata": {},
   "outputs": [
    {
     "data": {
      "text/html": [
       "<div>\n",
       "<style scoped>\n",
       "    .dataframe tbody tr th:only-of-type {\n",
       "        vertical-align: middle;\n",
       "    }\n",
       "\n",
       "    .dataframe tbody tr th {\n",
       "        vertical-align: top;\n",
       "    }\n",
       "\n",
       "    .dataframe thead th {\n",
       "        text-align: right;\n",
       "    }\n",
       "</style>\n",
       "<table border=\"1\" class=\"dataframe\">\n",
       "  <thead>\n",
       "    <tr style=\"text-align: right;\">\n",
       "      <th></th>\n",
       "      <th>Filename</th>\n",
       "      <th>Text</th>\n",
       "      <th>Category</th>\n",
       "    </tr>\n",
       "  </thead>\n",
       "  <tbody>\n",
       "    <tr>\n",
       "      <th>0</th>\n",
       "      <td>Internship_Ravali_Musquare Technologies (1).docx</td>\n",
       "      <td>Name: Ravali P \\r\\n\\r\\n                       ...</td>\n",
       "      <td>React JS Developer</td>\n",
       "    </tr>\n",
       "    <tr>\n",
       "      <th>1</th>\n",
       "      <td>Internship_Susovan Bag_Musquare Technologies.docx</td>\n",
       "      <td>\\r\\nSUSOVAN  BAG   \\r\\nSeeking  a  challengi...</td>\n",
       "      <td>React JS Developer</td>\n",
       "    </tr>\n",
       "    <tr>\n",
       "      <th>2</th>\n",
       "      <td>React Developer_Deepakreddy.docx</td>\n",
       "      <td>Kanumuru Deepak Reddy\\r\\n\\r\\n\\r\\n\\r\\nCAREER OB...</td>\n",
       "      <td>React JS Developer</td>\n",
       "    </tr>\n",
       "    <tr>\n",
       "      <th>3</th>\n",
       "      <td>React Developer_Haripriya.docx</td>\n",
       "      <td>HARIPRIYA BATTINA \\r\\nExperience as UI Develop...</td>\n",
       "      <td>React JS Developer</td>\n",
       "    </tr>\n",
       "    <tr>\n",
       "      <th>4</th>\n",
       "      <td>React Developer_Kamalakar Reddy.docx</td>\n",
       "      <td>KAMALAKAR REDDY. A \\r\\nLinked In: https://www....</td>\n",
       "      <td>React JS Developer</td>\n",
       "    </tr>\n",
       "  </tbody>\n",
       "</table>\n",
       "</div>"
      ],
      "text/plain": [
       "                                            Filename  \\\n",
       "0   Internship_Ravali_Musquare Technologies (1).docx   \n",
       "1  Internship_Susovan Bag_Musquare Technologies.docx   \n",
       "2                   React Developer_Deepakreddy.docx   \n",
       "3                     React Developer_Haripriya.docx   \n",
       "4               React Developer_Kamalakar Reddy.docx   \n",
       "\n",
       "                                                Text            Category  \n",
       "0  Name: Ravali P \\r\\n\\r\\n                       ...  React JS Developer  \n",
       "1    \\r\\nSUSOVAN  BAG   \\r\\nSeeking  a  challengi...  React JS Developer  \n",
       "2  Kanumuru Deepak Reddy\\r\\n\\r\\n\\r\\n\\r\\nCAREER OB...  React JS Developer  \n",
       "3  HARIPRIYA BATTINA \\r\\nExperience as UI Develop...  React JS Developer  \n",
       "4  KAMALAKAR REDDY. A \\r\\nLinked In: https://www....  React JS Developer  "
      ]
     },
     "execution_count": 11,
     "metadata": {},
     "output_type": "execute_result"
    }
   ],
   "source": [
    "df.head()"
   ]
  },
  {
   "cell_type": "code",
   "execution_count": 14,
   "metadata": {},
   "outputs": [],
   "source": [
    "df.drop(columns=['Filename'],inplace=True)"
   ]
  },
  {
   "cell_type": "code",
   "execution_count": 15,
   "metadata": {},
   "outputs": [
    {
     "data": {
      "text/html": [
       "<div>\n",
       "<style scoped>\n",
       "    .dataframe tbody tr th:only-of-type {\n",
       "        vertical-align: middle;\n",
       "    }\n",
       "\n",
       "    .dataframe tbody tr th {\n",
       "        vertical-align: top;\n",
       "    }\n",
       "\n",
       "    .dataframe thead th {\n",
       "        text-align: right;\n",
       "    }\n",
       "</style>\n",
       "<table border=\"1\" class=\"dataframe\">\n",
       "  <thead>\n",
       "    <tr style=\"text-align: right;\">\n",
       "      <th></th>\n",
       "      <th>Text</th>\n",
       "      <th>Category</th>\n",
       "    </tr>\n",
       "  </thead>\n",
       "  <tbody>\n",
       "    <tr>\n",
       "      <th>0</th>\n",
       "      <td>Name: Ravali P \\r\\n\\r\\n                       ...</td>\n",
       "      <td>React JS Developer</td>\n",
       "    </tr>\n",
       "    <tr>\n",
       "      <th>1</th>\n",
       "      <td>\\r\\nSUSOVAN  BAG   \\r\\nSeeking  a  challengi...</td>\n",
       "      <td>React JS Developer</td>\n",
       "    </tr>\n",
       "    <tr>\n",
       "      <th>2</th>\n",
       "      <td>Kanumuru Deepak Reddy\\r\\n\\r\\n\\r\\n\\r\\nCAREER OB...</td>\n",
       "      <td>React JS Developer</td>\n",
       "    </tr>\n",
       "    <tr>\n",
       "      <th>3</th>\n",
       "      <td>HARIPRIYA BATTINA \\r\\nExperience as UI Develop...</td>\n",
       "      <td>React JS Developer</td>\n",
       "    </tr>\n",
       "    <tr>\n",
       "      <th>4</th>\n",
       "      <td>KAMALAKAR REDDY. A \\r\\nLinked In: https://www....</td>\n",
       "      <td>React JS Developer</td>\n",
       "    </tr>\n",
       "  </tbody>\n",
       "</table>\n",
       "</div>"
      ],
      "text/plain": [
       "                                                Text            Category\n",
       "0  Name: Ravali P \\r\\n\\r\\n                       ...  React JS Developer\n",
       "1    \\r\\nSUSOVAN  BAG   \\r\\nSeeking  a  challengi...  React JS Developer\n",
       "2  Kanumuru Deepak Reddy\\r\\n\\r\\n\\r\\n\\r\\nCAREER OB...  React JS Developer\n",
       "3  HARIPRIYA BATTINA \\r\\nExperience as UI Develop...  React JS Developer\n",
       "4  KAMALAKAR REDDY. A \\r\\nLinked In: https://www....  React JS Developer"
      ]
     },
     "execution_count": 15,
     "metadata": {},
     "output_type": "execute_result"
    }
   ],
   "source": [
    "df.head()"
   ]
  },
  {
   "cell_type": "code",
   "execution_count": 4,
   "metadata": {},
   "outputs": [
    {
     "data": {
      "text/plain": [
       "0"
      ]
     },
     "execution_count": 4,
     "metadata": {},
     "output_type": "execute_result"
    }
   ],
   "source": [
    "df[\"Text\"].isna().sum()"
   ]
  },
  {
   "cell_type": "code",
   "execution_count": 5,
   "metadata": {},
   "outputs": [
    {
     "data": {
      "text/plain": [
       "(79, 3)"
      ]
     },
     "execution_count": 5,
     "metadata": {},
     "output_type": "execute_result"
    }
   ],
   "source": [
    "df.shape"
   ]
  },
  {
   "cell_type": "code",
   "execution_count": 6,
   "metadata": {},
   "outputs": [
    {
     "name": "stdout",
     "output_type": "stream",
     "text": [
      "<class 'pandas.core.frame.DataFrame'>\n",
      "RangeIndex: 79 entries, 0 to 78\n",
      "Data columns (total 3 columns):\n",
      " #   Column    Non-Null Count  Dtype \n",
      "---  ------    --------------  ----- \n",
      " 0   Filename  79 non-null     object\n",
      " 1   Text      79 non-null     object\n",
      " 2   Category  79 non-null     object\n",
      "dtypes: object(3)\n",
      "memory usage: 2.0+ KB\n"
     ]
    }
   ],
   "source": [
    "df.info()"
   ]
  },
  {
   "cell_type": "code",
   "execution_count": 7,
   "metadata": {},
   "outputs": [
    {
     "data": {
      "text/html": [
       "<div>\n",
       "<style scoped>\n",
       "    .dataframe tbody tr th:only-of-type {\n",
       "        vertical-align: middle;\n",
       "    }\n",
       "\n",
       "    .dataframe tbody tr th {\n",
       "        vertical-align: top;\n",
       "    }\n",
       "\n",
       "    .dataframe thead th {\n",
       "        text-align: right;\n",
       "    }\n",
       "</style>\n",
       "<table border=\"1\" class=\"dataframe\">\n",
       "  <thead>\n",
       "    <tr style=\"text-align: right;\">\n",
       "      <th></th>\n",
       "      <th>Filename</th>\n",
       "      <th>Text</th>\n",
       "      <th>Category</th>\n",
       "    </tr>\n",
       "  </thead>\n",
       "  <tbody>\n",
       "    <tr>\n",
       "      <th>count</th>\n",
       "      <td>79</td>\n",
       "      <td>79</td>\n",
       "      <td>79</td>\n",
       "    </tr>\n",
       "    <tr>\n",
       "      <th>unique</th>\n",
       "      <td>79</td>\n",
       "      <td>79</td>\n",
       "      <td>4</td>\n",
       "    </tr>\n",
       "    <tr>\n",
       "      <th>top</th>\n",
       "      <td>Internship_Ravali_Musquare Technologies (1).docx</td>\n",
       "      <td>Name: Ravali P \\r\\n\\r\\n                       ...</td>\n",
       "      <td>React JS Developer</td>\n",
       "    </tr>\n",
       "    <tr>\n",
       "      <th>freq</th>\n",
       "      <td>1</td>\n",
       "      <td>1</td>\n",
       "      <td>24</td>\n",
       "    </tr>\n",
       "  </tbody>\n",
       "</table>\n",
       "</div>"
      ],
      "text/plain": [
       "                                                Filename  \\\n",
       "count                                                 79   \n",
       "unique                                                79   \n",
       "top     Internship_Ravali_Musquare Technologies (1).docx   \n",
       "freq                                                   1   \n",
       "\n",
       "                                                     Text            Category  \n",
       "count                                                  79                  79  \n",
       "unique                                                 79                   4  \n",
       "top     Name: Ravali P \\r\\n\\r\\n                       ...  React JS Developer  \n",
       "freq                                                    1                  24  "
      ]
     },
     "execution_count": 7,
     "metadata": {},
     "output_type": "execute_result"
    }
   ],
   "source": [
    "df.describe()"
   ]
  },
  {
   "cell_type": "code",
   "execution_count": null,
   "metadata": {},
   "outputs": [],
   "source": []
  }
 ],
 "metadata": {
  "kernelspec": {
   "display_name": "classification",
   "language": "python",
   "name": "python3"
  },
  "language_info": {
   "codemirror_mode": {
    "name": "ipython",
    "version": 3
   },
   "file_extension": ".py",
   "mimetype": "text/x-python",
   "name": "python",
   "nbconvert_exporter": "python",
   "pygments_lexer": "ipython3",
   "version": "3.11.9"
  }
 },
 "nbformat": 4,
 "nbformat_minor": 2
}
